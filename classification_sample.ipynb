{
 "cells": [
  {
   "cell_type": "code",
   "execution_count": 47,
   "metadata": {},
   "outputs": [],
   "source": [
    "# x = [height(cm), weight(kg), shoe_size(uk)]\n",
    "x = [[180, 84, 9], [165, 52, 6], [188, 90, 9], [150, 45, 5], [170, 62, 7], [175, 65, 7], [155, 47, 6],\n",
    "     [169, 80, 10], [152, 60, 6], [166, 64, 7], [170, 67, 7], [159, 75, 9]]\n",
    "\n",
    "# m is male, f is female\n",
    "y = ['m', 'f', 'm', 'f', 'f', 'm', 'f', 'm', 'f', 'm', 'f', 'm']\n"
   ]
  },
  {
   "cell_type": "code",
   "execution_count": 48,
   "metadata": {},
   "outputs": [
    {
     "name": "stdout",
     "output_type": "stream",
     "text": [
      "['m']\n"
     ]
    }
   ],
   "source": [
    "#decision tree\n",
    "\n",
    "from sklearn import tree\n",
    "clf = tree.DecisionTreeClassifier()\n",
    "clf = clf.fit(x, y)\n",
    "prediction = clf.predict([[158, 70, 9]])\n",
    "print (prediction)"
   ]
  },
  {
   "cell_type": "code",
   "execution_count": 49,
   "metadata": {},
   "outputs": [
    {
     "name": "stdout",
     "output_type": "stream",
     "text": [
      "['f']\n"
     ]
    }
   ],
   "source": [
    "#knn\n",
    "\n",
    "from sklearn import neighbors\n",
    "model = neighbors.KNeighborsClassifier()\n",
    "model = model.fit(x, y)\n",
    "pred = model.predict([[159, 70, 9]])\n",
    "print(pred)"
   ]
  },
  {
   "cell_type": "code",
   "execution_count": 50,
   "metadata": {},
   "outputs": [
    {
     "name": "stdout",
     "output_type": "stream",
     "text": [
      "['f']\n"
     ]
    }
   ],
   "source": [
    "#svm\n",
    "\n",
    "from sklearn import svm\n",
    "clfy = svm.SVC(kernel = 'linear')\n",
    "clfy.fit(x, y)\n",
    "pred = clfy.predict([[159, 70, 9]])\n",
    "print(pred)"
   ]
  },
  {
   "cell_type": "code",
   "execution_count": null,
   "metadata": {},
   "outputs": [],
   "source": []
  }
 ],
 "metadata": {
  "kernelspec": {
   "display_name": "Python 3",
   "language": "python",
   "name": "python3"
  },
  "language_info": {
   "codemirror_mode": {
    "name": "ipython",
    "version": 3
   },
   "file_extension": ".py",
   "mimetype": "text/x-python",
   "name": "python",
   "nbconvert_exporter": "python",
   "pygments_lexer": "ipython3",
   "version": "3.6.8"
  }
 },
 "nbformat": 4,
 "nbformat_minor": 2
}
